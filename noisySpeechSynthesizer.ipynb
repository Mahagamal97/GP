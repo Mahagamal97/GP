{
 "cells": [
  {
   "cell_type": "code",
   "execution_count": 1,
   "metadata": {},
   "outputs": [],
   "source": [
    "import numpy as np\n",
    "import pandas as pd\n",
    "import sounddevice as sd\n",
    "import librosa\n",
    "import warnings\n",
    "warnings.filterwarnings('ignore')"
   ]
  },
  {
   "cell_type": "code",
   "execution_count": 2,
   "metadata": {},
   "outputs": [
    {
     "name": "stdout",
     "output_type": "stream",
     "text": [
      "<class 'pandas.core.frame.DataFrame'>\n",
      "Index: 4680 entries, b020_90_100.wav to b081_120_130.wav\n",
      "Data columns (total 2 columns):\n",
      " #   Column       Non-Null Count  Dtype \n",
      "---  ------       --------------  ----- \n",
      " 0   label        4680 non-null   object\n",
      " 1   fileStarter  4680 non-null   object\n",
      "dtypes: object(2)\n",
      "memory usage: 109.7+ KB\n",
      "None\n",
      "\n",
      "\n",
      "<class 'pandas.core.frame.DataFrame'>\n",
      "RangeIndex: 23075 entries, 0 to 23074\n",
      "Data columns (total 1 columns):\n",
      " #   Column    Non-Null Count  Dtype \n",
      "---  ------    --------------  ----- \n",
      " 0   fileName  23075 non-null  object\n",
      "dtypes: object(1)\n",
      "memory usage: 180.4+ KB\n",
      "None\n"
     ]
    }
   ],
   "source": [
    "noise_df = pd.read_csv('noise_meta.csv', index_col = 'fileName')\n",
    "clean_df = pd.read_csv('clean_meta.csv', names=[\"fileName\"])\n",
    "\n",
    "#print(noise_df['label'].value_counts())\n",
    "print(noise_df.info())\n",
    "print(\"\\n\")\n",
    "print(clean_df.info())"
   ]
  },
  {
   "cell_type": "code",
   "execution_count": 3,
   "metadata": {},
   "outputs": [],
   "source": [
    "def adjustLengths(clean_org,noise_org):\n",
    "    clean_len = len(clean_org)\n",
    "    noise_len = len(noise_org)\n",
    "    \n",
    "    mxLength = max(clean_len, noise_len)\n",
    "    clean = np.empty(mxLength)\n",
    "    noise = np.empty(mxLength)\n",
    "    \n",
    "    if clean_len < noise_len:\n",
    "        rep_time = int(np.floor(noise_len / clean_len))\n",
    "        left_len = noise_len - clean_len * rep_time\n",
    "        temp_data = np.tile(clean_org, [1, rep_time])\n",
    "        temp_data.shape = (temp_data.shape[1], )\n",
    "        clean = np.hstack((temp_data, clean_org[:left_len]))\n",
    "        noise = np.array(noise_org)\n",
    "#         print(\"cleanShapeAdjusted in if=\",clean.shape)\n",
    "#         print(\"noiseShapeAdjusted in if=\",noise.shape)\n",
    "\n",
    "    else:\n",
    "        rep_time = int(np.floor(clean_len / noise_len))\n",
    "        left_len = clean_len - noise_len * rep_time\n",
    "        temp_data = np.tile(noise_org, [1, rep_time])\n",
    "        temp_data.shape = (temp_data.shape[1], )\n",
    "        noise = np.hstack((temp_data, noise_org[:left_len]))\n",
    "        clean = np.array(clean_org)\n",
    "#         print(\"cleanShapeAdjusted =\",clean.shape)\n",
    "#         print(\"noiseShapeAdjusted =\",noise.shape)\n",
    "    \n",
    "    return clean, noise"
   ]
  },
  {
   "cell_type": "code",
   "execution_count": 4,
   "metadata": {},
   "outputs": [],
   "source": [
    "def SNRmixer(clean_org, noise_org, snr_dB):\n",
    "    \n",
    "    clean, noise = adjustLengths(clean_org, noise_org)\n",
    "    \n",
    "    # Normalizing to -25 dB FS\n",
    "    rmsclean = (clean**2).mean()**0.5\n",
    "    scalarclean = 10 ** (-25 / 20) / rmsclean\n",
    "    clean = clean * scalarclean\n",
    "    rmsclean = (clean**2).mean()**0.5\n",
    "\n",
    "    rmsnoise = (noise**2).mean()**0.5\n",
    "    scalarnoise = 10 ** (-25 / 20) /rmsnoise\n",
    "    noise = noise * scalarnoise\n",
    "    rmsnoise = (noise**2).mean()**0.5\n",
    "\n",
    "    # Set the noise level for a given SNR\n",
    "    noisescalar = np.sqrt(rmsclean / (10**(snr_dB/20)) / rmsnoise)\n",
    "    noisenewlevel = noise * noisescalar\n",
    "    noisyspeech = clean + noisenewlevel\n",
    "    return clean, noisenewlevel, noisyspeech"
   ]
  },
  {
   "cell_type": "code",
   "execution_count": 6,
   "metadata": {},
   "outputs": [
    {
     "name": "stdout",
     "output_type": "stream",
     "text": [
      "noisySpeechGenerator clean=  (20848,)\n",
      "noisySpeechGenerator totalNoise=  (80001,)\n",
      "noisySpeechGenerator clean=  (18821,)\n",
      "noisySpeechGenerator totalNoise=  (80001,)\n",
      "noisySpeechGenerator clean=  (26088,)\n",
      "noisySpeechGenerator totalNoise=  (80001,)\n",
      "noisySpeechGenerator clean=  (24000,)\n",
      "noisySpeechGenerator totalNoise=  (80001,)\n",
      "noisySpeechGenerator clean=  (22640,)\n",
      "noisySpeechGenerator totalNoise=  (80001,)\n",
      "noisySpeechGenerator clean=  (24851,)\n",
      "noisySpeechGenerator totalNoise=  (80001,)\n",
      "noisySpeechGenerator clean=  (20831,)\n",
      "noisySpeechGenerator totalNoise=  (80001,)\n",
      "noisySpeechGenerator clean=  (25600,)\n",
      "noisySpeechGenerator totalNoise=  (80001,)\n",
      "noisySpeechGenerator clean=  (15794,)\n",
      "noisySpeechGenerator totalNoise=  (80001,)\n",
      "noisySpeechGenerator clean=  (29920,)\n",
      "noisySpeechGenerator totalNoise=  (80001,)\n"
     ]
    }
   ],
   "source": [
    "# ADD different number of noises to the clean speech\n",
    "from sklearn.utils import shuffle\n",
    "\n",
    "shuffledNoise = shuffle(noise_df)\n",
    "simpleNoise = shuffledNoise.iloc[ :20]\n",
    "   \n",
    "def noisySpeechGenerator(clean_df,noise_df,numNoisySpeech, numAddedNoises, snr):\n",
    "    \n",
    "    shuffledClean = shuffle(clean_df)\n",
    "    simpleClean = shuffledClean.iloc[:numNoisySpeech]\n",
    "    simpleClean.set_index('fileName', inplace = True)\n",
    "    \n",
    "    simpleNoise = pd.read_csv('simpleNoise.csv', index_col = 'fileName')\n",
    "    simpleNoise.at[:,'length'] = 10.000125\n",
    "    #print(simpleNoise)\n",
    "    for c in simpleClean.index:\n",
    "        \n",
    "        totalNoise = np.empty(8000*int(simpleNoise['length'].mean())+1)  # htt3`yr 3lshan tnaseb ay 3add mn el addedNoises\n",
    "        #print(totalNoise.shape)\n",
    "        clean, rate = librosa.load('clean_train/'+c, sr=8000) # downsampling wavfiles from 44100Hz to 8000Hz\n",
    "        simpleClean.at[c,'length'] = clean.shape[0]/rate\n",
    "        \n",
    "        i =0\n",
    "        for n in simpleNoise.index:\n",
    "            noise, _ = librosa.load('noise_train/'+n, sr=8000) # downsampling wavfiles from 44100Hz to 8000Hz\n",
    "            totalNoise += noise\n",
    "#             print(\"noise= \",noise.shape)\n",
    "#             print(\"totalNoiseShape= \",totalNoise.shape)\n",
    "            i += 1 \n",
    "            if (i > numAddedNoises):\n",
    "                break\n",
    "#         print(\"noisySpeechGenerator clean= \",clean.shape)\n",
    "#         print(\"noisySpeechGenerator totalNoise= \",totalNoise.shape)\n",
    "        clean, noiseNewLevel, noisySpeech  = SNRmixer(clean,totalNoise,snr)\n",
    "        \n",
    "noisySpeechGenerator(clean_df,noise_df,10,1,5)"
   ]
  },
  {
   "cell_type": "code",
   "execution_count": null,
   "metadata": {},
   "outputs": [],
   "source": []
  }
 ],
 "metadata": {
  "kernelspec": {
   "display_name": "Python 3",
   "language": "python",
   "name": "python3"
  },
  "language_info": {
   "codemirror_mode": {
    "name": "ipython",
    "version": 3
   },
   "file_extension": ".py",
   "mimetype": "text/x-python",
   "name": "python",
   "nbconvert_exporter": "python",
   "pygments_lexer": "ipython3",
   "version": "3.7.4"
  }
 },
 "nbformat": 4,
 "nbformat_minor": 4
}
